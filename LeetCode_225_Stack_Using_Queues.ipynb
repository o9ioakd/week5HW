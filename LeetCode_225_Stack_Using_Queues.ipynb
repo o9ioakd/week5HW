{
 "cells": [
  {
   "cell_type": "markdown",
   "id": "6a32761b",
   "metadata": {},
   "source": [
    "# 문제 1: LeetCode 225 - Implement Stack using Queues\n",
    "\n",
    "**문제 설명**  \n",
    "Queue를 사용하여 Stack을 구현하세요. Stack의 다음 연산을 지원해야 합니다: `push`, `pop`, `top`, `empty`.\n",
    "\n",
    "**조건**  \n",
    "- 오직 Queue 연산만 사용 가능 (`push to back`, `peek/pop from front`, `size`, `is empty`)  \n",
    "- 사용할 수 있는 자료구조: Python의 `collections.deque`\n",
    "\n",
    "문제 링크: [https://leetcode.com/problems/implement-stack-using-queues/](https://leetcode.com/problems/implement-stack-using-queues/)"
   ]
  },
  {
   "cell_type": "code",
   "execution_count": null,
   "id": "445487df",
   "metadata": {},
   "outputs": [],
   "source": [
    "from collections import deque\n",
    "\n",
    "class MyStack:\n",
    "    def __init__(self):\n",
    "        self.queue = deque()\n",
    "\n",
    "    def push(self, x: int) -> None:\n",
    "        self.queue.append(x)\n",
    "        for _ in range(len(self.queue) - 1):\n",
    "            self.queue.append(self.queue.popleft())\n",
    "\n",
    "    def pop(self) -> int:\n",
    "        return self.queue.popleft()\n",
    "\n",
    "    def top(self) -> int:\n",
    "        return self.queue[0]\n",
    "\n",
    "    def empty(self) -> bool:\n",
    "        return not self.queue"
   ]
  },
  {
   "cell_type": "markdown",
   "id": "6c1c9ef7",
   "metadata": {},
   "source": [
    "**풀이 설명**  \n",
    "이 구현은 `deque`를 한 개만 사용합니다.  \n",
    "`push()` 연산을 할 때, 새로 들어온 원소가 맨 앞에 위치하도록 queue를 회전시킵니다.\n",
    "\n",
    "예를 들어 `push(1), push(2)`를 하면:\n",
    "- 처음에 `1`이 들어가고  \n",
    "- 그 다음에 `2`가 들어가며 queue를 한 번 회전시켜 `[2, 1]`이 됩니다.  \n",
    "이렇게 하면 `pop()`을 할 때 맨 앞 원소(`2`)가 바로 나와 스택처럼 동작합니다."
   ]
  }
 ],
 "metadata": {},
 "nbformat": 4,
 "nbformat_minor": 5
}