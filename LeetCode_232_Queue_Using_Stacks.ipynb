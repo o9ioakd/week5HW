{
 "cells": [
  {
   "cell_type": "markdown",
   "id": "4620d74c",
   "metadata": {},
   "source": [
    "# 문제 2: LeetCode 232 - Implement Queue using Stacks\n",
    "\n",
    "**문제 설명**  \n",
    "Stack을 사용하여 Queue를 구현하세요. Queue의 다음 연산을 지원해야 합니다: `push`, `pop`, `peek`, `empty`.\n",
    "\n",
    "**조건**  \n",
    "- 오직 Stack 연산만 사용 가능 (`push to top`, `pop from top`, `peek at top`, `is empty`)  \n",
    "- 사용할 수 있는 자료구조: Python의 `list`\n",
    "\n",
    "문제 링크: [https://leetcode.com/problems/implement-queue-using-stacks/](https://leetcode.com/problems/implement-queue-using-stacks/)"
   ]
  },
  {
   "cell_type": "code",
   "execution_count": null,
   "id": "2064bbfa",
   "metadata": {},
   "outputs": [],
   "source": [
    "class MyQueue:\n",
    "    def __init__(self):\n",
    "        self.stack_in = []\n",
    "        self.stack_out = []\n",
    "\n",
    "    def push(self, x: int) -> None:\n",
    "        self.stack_in.append(x)\n",
    "\n",
    "    def pop(self) -> int:\n",
    "        self.peek()\n",
    "        return self.stack_out.pop()\n",
    "\n",
    "    def peek(self) -> int:\n",
    "        if not self.stack_out:\n",
    "            while self.stack_in:\n",
    "                self.stack_out.append(self.stack_in.pop())\n",
    "        return self.stack_out[-1]\n",
    "\n",
    "    def empty(self) -> bool:\n",
    "        return not self.stack_in and not self.stack_out"
   ]
  },
  {
   "cell_type": "markdown",
   "id": "666cd2ea",
   "metadata": {},
   "source": [
    "**풀이 설명**  \n",
    "스택 두 개를 사용하여 큐를 구현합니다.  \n",
    "- `push()`는 입력 스택(`stack_in`)에 그대로 넣고,\n",
    "- `pop()`이나 `peek()`을 할 때 출력 스택(`stack_out`)이 비어있으면 입력 스택의 내용을 뒤집어 옮깁니다.\n",
    "\n",
    "이 구조를 사용하면 FIFO 순서를 유지하면서 stack만으로 queue 기능을 흉내낼 수 있습니다."
   ]
  }
 ],
 "metadata": {},
 "nbformat": 4,
 "nbformat_minor": 5
}