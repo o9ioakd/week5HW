{
 "cells": [
  {
   "cell_type": "markdown",
   "id": "81e9111c",
   "metadata": {},
   "source": [
    "# 문제 2: w$w 형식 문자열 검증 (Queue 사용)\n",
    "**설명**: 입력 문자열이 `w$w` 형식인지 확인합니다. 여기서 w는 문자열이며, $를 기준으로 앞뒤가 같은지 확인하는 문제입니다.\n",
    "**예시**: `abc$cba` → True / `abc$abc` → False"
   ]
  },
  {
   "cell_type": "code",
   "execution_count": null,
   "id": "af1796cf",
   "metadata": {},
   "outputs": [],
   "source": [
    "from collections import deque\n",
    "\n",
    "def is_w_dollar_w(s):\n",
    "    if '$' not in s:\n",
    "        return False\n",
    "    w1, w2 = s.split('$')\n",
    "    q = deque(w1)\n",
    "    for ch in reversed(w2):\n",
    "        if not q or ch != q.popleft():\n",
    "            return False\n",
    "    return not q\n",
    "\n",
    "# 테스트\n",
    "print(is_w_dollar_w(\"abc$cba\"))  # True\n",
    "print(is_w_dollar_w(\"abc$abc\"))  # False"
   ]
  },
  {
   "cell_type": "markdown",
   "id": "c51a6096",
   "metadata": {},
   "source": [
    "# 문제 3: LinkedQueue의 내용 복사\n",
    "**설명**: 객체 `a`의 내용을 `b`로 복사합니다. 레퍼런스를 공유하지 않고, 내부 값을 복사합니다."
   ]
  },
  {
   "cell_type": "code",
   "execution_count": null,
   "id": "dd3c20f3",
   "metadata": {},
   "outputs": [],
   "source": [
    "# LinkedQueue 클래스는 내부에 get(i), size(), append() 등이 있다고 가정합니다.\n",
    "def copy_linked_queue(a):\n",
    "    b = LinkedQueue()\n",
    "    for i in range(a.__queue.size()):\n",
    "        b.enqueue(a.__queue.get(i))\n",
    "    return b"
   ]
  },
  {
   "cell_type": "markdown",
   "id": "5289cedd",
   "metadata": {},
   "source": [
    "# 문제 4: 두 개의 큐로 스택 구현\n",
    "**설명**: 큐 두 개를 이용해 스택의 `push()`와 `pop()`을 구현합니다."
   ]
  },
  {
   "cell_type": "code",
   "execution_count": null,
   "id": "8bd8a7e1",
   "metadata": {},
   "outputs": [],
   "source": [
    "from collections import deque\n",
    "\n",
    "class StackUsingQueues:\n",
    "    def __init__(self):\n",
    "        self.q1 = deque()\n",
    "        self.q2 = deque()\n",
    "\n",
    "    def push(self, x):\n",
    "        self.q1.append(x)\n",
    "\n",
    "    def pop(self):\n",
    "        while len(self.q1) > 1:\n",
    "            self.q2.append(self.q1.popleft())\n",
    "        val = self.q1.popleft()\n",
    "        self.q1, self.q2 = self.q2, self.q1\n",
    "        return val"
   ]
  },
  {
   "cell_type": "markdown",
   "id": "15cfa1bf",
   "metadata": {},
   "source": [
    "# 문제 5: 두 개의 스택으로 큐 구현\n",
    "**설명**: 스택 두 개를 이용해 큐의 `enqueue()`와 `dequeue()`를 구현합니다."
   ]
  },
  {
   "cell_type": "code",
   "execution_count": null,
   "id": "d895ddc3",
   "metadata": {},
   "outputs": [],
   "source": [
    "class QueueUsingStacks:\n",
    "    def __init__(self):\n",
    "        self.stack_in = []\n",
    "        self.stack_out = []\n",
    "\n",
    "    def enqueue(self, x):\n",
    "        self.stack_in.append(x)\n",
    "\n",
    "    def dequeue(self):\n",
    "        if not self.stack_out:\n",
    "            while self.stack_in:\n",
    "                self.stack_out.append(self.stack_in.pop())\n",
    "        return self.stack_out.pop()"
   ]
  },
  {
   "cell_type": "markdown",
   "id": "5a7a4040",
   "metadata": {},
   "source": [
    "# 문제 6: CircularLinkedList 기반의 Deque 시간복잡도 분석\n",
    "- **enqueue/rear**: O(1)\n",
    "- **enqueue/front**: O(n) (맨 앞 삽입 위해 순회 필요)\n",
    "- **dequeue/front**: O(1)\n",
    "- **dequeue/rear**: O(n) (맨 뒤 삭제 위해 순회 필요)\n",
    "\n",
    "CircularLinkedList는 **맨 뒤 접근이 빠르지만**, **맨 앞 삽입/삭제는 느립니다**."
   ]
  },
  {
   "cell_type": "markdown",
   "id": "8c19b993",
   "metadata": {},
   "source": [
    "# 문제 7: LinkedListBasic 사용 시 시간복잡도\n",
    "- **enqueue/rear (append)**: O(n)\n",
    "- **dequeue/front (pop(0))**: O(1)\n",
    "\n",
    "`append()`는 항상 맨 끝까지 순회해야 하므로 O(n), 반면 pop(0)은 head 바로 다음 노드를 제거하면 되므로 O(1)입니다."
   ]
  },
  {
   "cell_type": "markdown",
   "id": "30721266",
   "metadata": {},
   "source": [
    "# 문제 8: ListDeque 클래스 구현\n",
    "**설명**: 양쪽에서 enqueue/dequeue 가능한 Deque 클래스를 리스트 기반으로 구현합니다."
   ]
  },
  {
   "cell_type": "code",
   "execution_count": null,
   "id": "7df06f74",
   "metadata": {},
   "outputs": [],
   "source": [
    "class ListDeque:\n",
    "    def __init__(self):\n",
    "        self.__queue = []\n",
    "\n",
    "    def enqueue_rear(self, x):\n",
    "        self.__queue.append(x)\n",
    "\n",
    "    def enqueue_front(self, x):\n",
    "        self.__queue.insert(0, x)\n",
    "\n",
    "    def dequeue_front(self):\n",
    "        return self.__queue.pop(0) if not self.isEmpty() else None\n",
    "\n",
    "    def dequeue_rear(self):\n",
    "        return self.__queue.pop() if not self.isEmpty() else None\n",
    "\n",
    "    def front(self):\n",
    "        return self.__queue[0] if not self.isEmpty() else None\n",
    "\n",
    "    def rear(self):\n",
    "        return self.__queue[-1] if not self.isEmpty() else None\n",
    "\n",
    "    def isEmpty(self):\n",
    "        return len(self.__queue) == 0\n",
    "\n",
    "    def dequeueAll(self):\n",
    "        self.__queue.clear()\n",
    "\n",
    "    def printQueue(self):\n",
    "        print(\"Deque from front:\", end=' ')\n",
    "        for item in self.__queue:\n",
    "            print(item, end=' ')\n",
    "        print()"
   ]
  }
 ],
 "metadata": {},
 "nbformat": 4,
 "nbformat_minor": 5
}