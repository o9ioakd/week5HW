{
 "cells": [
  {
   "cell_type": "markdown",
   "id": "96428035",
   "metadata": {},
   "source": [
    "# LeetCode 225. Implement Stack using Queues"
   ]
  },
  {
   "cell_type": "code",
   "execution_count": null,
   "id": "9963a40a",
   "metadata": {},
   "outputs": [],
   "source": [
    "from collections import deque\n",
    "\n",
    "class MyStack:\n",
    "    def __init__(self):\n",
    "        self.queue = deque()\n",
    "\n",
    "    def push(self, x: int) -> None:\n",
    "        self.queue.append(x)\n",
    "        for _ in range(len(self.queue) - 1):\n",
    "            self.queue.append(self.queue.popleft())\n",
    "\n",
    "    def pop(self) -> int:\n",
    "        return self.queue.popleft()\n",
    "\n",
    "    def top(self) -> int:\n",
    "        return self.queue[0]\n",
    "\n",
    "    def empty(self) -> bool:\n",
    "        return not self.queue"
   ]
  },
  {
   "cell_type": "markdown",
   "id": "e21b4952",
   "metadata": {},
   "source": [
    "**풀이 설명**  \n",
    "이 구현은 `deque`를 한 개만 사용합니다.  \n",
    "`push()` 연산을 할 때, 새로 들어온 원소가 맨 앞에 위치하도록 queue를 회전시킵니다.\n",
    "\n",
    "예를 들어 `push(1), push(2)`를 하면:\n",
    "- 처음에 `1`이 들어가고  \n",
    "- 그 다음에 `2`가 들어가며 queue를 한 번 회전시켜 `[2, 1]`이 됩니다.  \n",
    "이렇게 하면 `pop()`을 할 때 맨 앞 원소(`2`)가 바로 나와 스택처럼 동작합니다."
   ]
  },
  {
   "cell_type": "markdown",
   "id": "2e4fa03a",
   "metadata": {},
   "source": [
    "# LeetCode 232. Implement Queue using Stacks"
   ]
  },
  {
   "cell_type": "code",
   "execution_count": null,
   "id": "ea95a592",
   "metadata": {},
   "outputs": [],
   "source": [
    "class MyQueue:\n",
    "    def __init__(self):\n",
    "        self.stack_in = []\n",
    "        self.stack_out = []\n",
    "\n",
    "    def push(self, x: int) -> None:\n",
    "        self.stack_in.append(x)\n",
    "\n",
    "    def pop(self) -> int:\n",
    "        self.peek()\n",
    "        return self.stack_out.pop()\n",
    "\n",
    "    def peek(self) -> int:\n",
    "        if not self.stack_out:\n",
    "            while self.stack_in:\n",
    "                self.stack_out.append(self.stack_in.pop())\n",
    "        return self.stack_out[-1]\n",
    "\n",
    "    def empty(self) -> bool:\n",
    "        return not self.stack_in and not self.stack_out"
   ]
  },
  {
   "cell_type": "markdown",
   "id": "7c96b372",
   "metadata": {},
   "source": [
    "**풀이 설명**  \n",
    "스택 두 개를 사용하여 큐를 구현합니다.  \n",
    "- `push()`는 입력 스택(`stack_in`)에 그대로 넣고,\n",
    "- `pop()`이나 `peek()`을 할 때 출력 스택(`stack_out`)이 비어있으면 입력 스택의 내용을 뒤집어 옮깁니다.\n",
    "\n",
    "이 구조를 사용하면 FIFO 순서를 유지하면서 stack만으로 queue 기능을 흉내낼 수 있습니다."
   ]
  },
  {
   "cell_type": "markdown",
   "id": "81e9111c",
   "metadata": {},
   "source": [
    "# 교재 큐 문제\n",
    "\n",
    "## 문제 1"
   ]
  },
  {
   "cell_type": "code",
   "execution_count": null,
   "id": "15c5e772",
   "metadata": {},
   "outputs": [],
   "source": [
    "class ListQueue:\n",
    "    def __init__(self):\n",
    "        self.__queue = []\n",
    "\n",
    "    def enqueue(self, x):\n",
    "        self.__queue.insert(0, x)\n",
    "\n",
    "    def dequeue(self):\n",
    "        return self.__queue.pop()\n",
    "\n",
    "    def front(self):\n",
    "        return self.__queue[-1]\n",
    "\n",
    "    def is_empty(self) -> bool:\n",
    "        return len(self.__queue) == 0\n",
    "\n",
    "    def dequeueAll(self):\n",
    "        self.__queue.clear()"
   ]
  },
  {
   "cell_type": "markdown",
   "id": "d51532b1",
   "metadata": {},
   "source": [
    "## 문제 2"
   ]
  },
  {
   "cell_type": "code",
   "execution_count": null,
   "id": "af1796cf",
   "metadata": {},
   "outputs": [],
   "source": [
    "def is_w_dollar_w(s: str) -> bool:\n",
    "    if '$' not in s:\n",
    "        return False\n",
    "\n",
    "    w1, w2 = s.split('$', 1)\n",
    "    queue = []\n",
    "    for ch in w1:\n",
    "        queue.append(ch)\n",
    "    for ch in reversed(w2):\n",
    "        if not queue or queue.pop(0) != ch:\n",
    "            return False\n",
    "\n",
    "    return len(queue) == 0"
   ]
  },
  {
   "cell_type": "markdown",
   "id": "c51a6096",
   "metadata": {},
   "source": [
    "## 문제 3"
   ]
  },
  {
   "cell_type": "code",
   "execution_count": null,
   "id": "dd3c20f3",
   "metadata": {},
   "outputs": [],
   "source": [
    "def copy_linked_queue(a):\n",
    "    b = LinkedQueue()\n",
    "    for i in range(a._LinkedQueue__queue.size()):\n",
    "        item = a._LinkedQueue__queue.get(i)\n",
    "        b.enqueue(item)\n",
    "    return b"
   ]
  },
  {
   "cell_type": "markdown",
   "id": "5289cedd",
   "metadata": {},
   "source": [
    "## 문제 4"
   ]
  },
  {
   "cell_type": "code",
   "execution_count": null,
   "id": "8bd8a7e1",
   "metadata": {},
   "outputs": [],
   "source": [
    "class StackUsingQueues:\n",
    "    def __init__(self):\n",
    "        self.q1 = []\n",
    "        self.q2 = []\n",
    "    def is_empty(self):\n",
    "        return len(self.q1) == 0\n",
    "    def push(self, x):\n",
    "        self.q1.append(x)\n",
    "    def pop(self):\n",
    "        if self.is_empty():\n",
    "            return None\n",
    "        while len(self.q1) > 1:\n",
    "            self.q2.append(self.q1.pop(0))\n",
    "        top = self.q1.pop(0)\n",
    "        self.q1, self.q2 = self.q2, self.q1\n",
    "        return top\n",
    "\n",
    "    def top(self):\n",
    "        if self.is_empty():\n",
    "            return None\n",
    "        while len(self.q1) > 1:\n",
    "            self.q2.append(self.q1.pop(0))\n",
    "        top = self.q1.pop(0)\n",
    "        self.q2.append(top)\n",
    "        self.q1, self.q2 = self.q2, self.q1\n",
    "        return top"
   ]
  },
  {
   "cell_type": "markdown",
   "id": "15cfa1bf",
   "metadata": {},
   "source": [
    "## 문제 5"
   ]
  },
  {
   "cell_type": "code",
   "execution_count": null,
   "id": "d895ddc3",
   "metadata": {},
   "outputs": [],
   "source": [
    "class QueueUsingStacks:\n",
    "    def __init__(self):\n",
    "        self.stack_in = []\n",
    "        self.stack_out = []\n",
    "    def is_empty(self):\n",
    "        return len(self.stack_in) == 0 and len(self.stack_out) == 0\n",
    "    def enqueue(self, x):\n",
    "        self.stack_in.append(x)\n",
    "    def dequeue(self):\n",
    "        if self.is_empty():\n",
    "            return None\n",
    "        if not self.stack_out:\n",
    "            while self.stack_in:\n",
    "                self.stack_out.append(self.stack_in.pop())\n",
    "        return self.stack_out.pop()\n",
    "\n",
    "    def front(self):\n",
    "        if self.is_empty():\n",
    "            return None\n",
    "        if not self.stack_out:\n",
    "            while self.stack_in:\n",
    "                self.stack_out.append(self.stack_in.pop())\n",
    "        return self.stack_out[-1]"
   ]
  },
  {
   "cell_type": "markdown",
   "id": "5a7a4040",
   "metadata": {},
   "source": [
    "## 문제 6\n",
    "### 원형 연결 리스트 기반 Deque에서는 모든 enqueue/dequeue 연산이 O(1) 시간에 수행된다.\n",
    "### (큐의 크기 n과 무관)"
   ]
  },
  {
   "cell_type": "markdown",
   "id": "8c19b993",
   "metadata": {},
   "source": [
    "## 문제 7\n",
    "### enqueue() 연산은 다음 두 경우로 나눌 수 있다:\n",
    "### Deque의 front에서 수행할 경우: insert(0, x)를 통해 Θ(1)의 시간으로 수행 가능하다.\n",
    "### Deque의 tail에서 수행할 경우: 리스트의 맨 끝까지 순회 후 삽입하게 되므로 Θ(n)의 시간이 소요된다.\n",
    "### 따라서, enqueue()의 수행 시간은 최악의 경우를 고려하여 Θ(n) 이다.\n",
    "\n",
    "### dequeue() 연산도 다음과 같이 나눌 수 있다:\n",
    "### Deque의 front에서 수행할 경우: pop(0) 연산을 통해 Θ(1)의 시간으로 수행 가능하다.\n",
    "### Deque의 tail에서 수행할 경우: 리스트를 끝까지 순회하여 이전 노드를 찾아야 하므로 Θ(n)의 시간이 소요된다.\n",
    "### 따라서, dequeue()의 수행 시간도 최악의 경우를 고려하여 Θ(n) 이다."
   ]
  },
  {
   "cell_type": "markdown",
   "id": "30721266",
   "metadata": {},
   "source": [
    "## 문제 8"
   ]
  },
  {
   "cell_type": "code",
   "execution_count": null,
   "id": "7df06f74",
   "metadata": {},
   "outputs": [],
   "source": [
    "class ListDeque:\n",
    "    def __init__(self):\n",
    "        self.__deque = []\n",
    "\n",
    "    def enqueueRear(self, x):\n",
    "        self.__deque.append(x)\n",
    "    def enqueueFront(self, x):\n",
    "        self.__deque.insert(0, x)\n",
    "    def dequeueFront(self):\n",
    "        if self.isEmpty():\n",
    "            return None\n",
    "        return self.__deque.pop(0)\n",
    "    def dequeueRear(self):\n",
    "        if self.isEmpty():\n",
    "            return None\n",
    "        return self.__deque.pop()\n",
    "    def front(self):\n",
    "        if self.isEmpty():\n",
    "            return None\n",
    "        return self.__deque[0]\n",
    "    def rear(self):\n",
    "        if self.isEmpty():\n",
    "            return None\n",
    "        return self.__deque[-1]\n",
    "    def isEmpty(self) -> bool:\n",
    "        return len(self.__deque) == 0\n",
    "    def dequeueAll(self):\n",
    "        self.__deque.clear()\n",
    "    def printDeque(self):\n",
    "        print(\"Deque from front to rear:\", end=' ')\n",
    "        for item in self.__deque:\n",
    "            print(item, end=' ')\n",
    "        print()"
   ]
  }
 ],
 "metadata": {
  "language_info": {
   "name": "python"
  }
 },
 "nbformat": 4,
 "nbformat_minor": 5
}
